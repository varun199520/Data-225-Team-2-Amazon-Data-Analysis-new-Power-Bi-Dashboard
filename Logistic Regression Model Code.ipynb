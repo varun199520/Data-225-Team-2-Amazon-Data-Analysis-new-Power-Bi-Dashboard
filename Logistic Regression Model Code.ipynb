{
 "cells": [
  {
   "cell_type": "code",
   "execution_count": 3,
   "id": "799a6cdc",
   "metadata": {},
   "outputs": [
    {
     "name": "stderr",
     "output_type": "stream",
     "text": [
      "C:\\Users\\ADMIN\\anaconda3\\python\\Lib\\site-packages\\sklearn\\linear_model\\_logistic.py:460: ConvergenceWarning: lbfgs failed to converge (status=1):\n",
      "STOP: TOTAL NO. of ITERATIONS REACHED LIMIT.\n",
      "\n",
      "Increase the number of iterations (max_iter) or scale the data as shown in:\n",
      "    https://scikit-learn.org/stable/modules/preprocessing.html\n",
      "Please also refer to the documentation for alternative solver options:\n",
      "    https://scikit-learn.org/stable/modules/linear_model.html#logistic-regression\n",
      "  n_iter_i = _check_optimize_result(\n"
     ]
    }
   ],
   "source": [
    "import pandas as pd\n",
    "from sklearn.model_selection import train_test_split\n",
    "from sklearn.linear_model import LogisticRegression\n",
    "from sklearn.preprocessing import StandardScaler\n",
    "from sklearn.metrics import accuracy_score\n",
    "\n",
    "# Load the data\n",
    "file_path = \"C:/Users/ADMIN/Downloads/amazon/amazon/merged_data.csv\"\n",
    "data = pd.read_csv(\"C:/Users/ADMIN/Downloads/amazon/amazon/merged_data.csv\")\n",
    "\n",
    "# Preprocessing\n",
    "# Convert 'isbestseller' to a binary target variable\n",
    "data['is_bestseller'] = data['isbestseller'].apply(lambda x: 1 if x else 0)\n",
    "\n",
    "# Select relevant features\n",
    "features = data[[\"reviews\", \"stars\", \"price\"]]\n",
    "target = data['boughtinlastmonth']\n",
    "\n",
    "# Split the data into training and test sets\n",
    "X_train, X_test, y_train, y_test = train_test_split(features, target, test_size=0.2, random_state=42)\n",
    "\n",
    "# Feature scaling\n",
    "scaler = StandardScaler()\n",
    "X_train_scaled = scaler.fit_transform(X_train)\n",
    "X_test_scaled = scaler.transform(X_test)\n",
    "\n",
    "# Model Training\n",
    "model = LogisticRegression()\n",
    "model.fit(X_train_scaled, y_train)\n",
    "\n",
    "# Predicting and Evaluating the Model\n",
    "predictions = model.predict_proba(X_test_scaled)[:, 1]  # Get probabilities for the positive class\n",
    "\n"
   ]
  },
  {
   "cell_type": "code",
   "execution_count": 4,
   "id": "832e2d0e",
   "metadata": {},
   "outputs": [
    {
     "name": "stdout",
     "output_type": "stream",
     "text": [
      "Top 5 Predicted Bestsellers for Next Month:\n",
      "                                                     title  probability\n",
      "908766                 Lego City Fire Patrol Vehicle 30585     0.135321\n",
      "873747   Deckorators 4X4 Hatteras Flat Top Fence Cedar ...     0.135321\n",
      "1018665                  X-Rocker Video Rocker - Camo Grey     0.135321\n",
      "1014575  Dust Proof Cover for Xbox Series X Console, Du...     0.135321\n",
      "1017549  Goodgo Original Replacement Internal Cooling F...     0.135321\n",
      "Model Accuracy: 63.39746799227524 %\n"
     ]
    }
   ],
   "source": [
    "X_test['probability'] = predictions\n",
    "X_test['title'] = data.loc[X_test.index, 'title']\n",
    "X_test['boughtinlastmonth'] = data.loc[X_test.index, 'boughtinlastmonth']\n",
    "\n",
    "# Get the top 5 items most likely to be bestsellers next month\n",
    "top_5_items = X_test.sort_values(by='probability', ascending=False).head(5)\n",
    "\n",
    "print(\"Top 5 Predicted Bestsellers for Next Month:\")\n",
    "print(top_5_items[['title', 'probability']].head(1000))\n",
    "\n",
    "# Model accuracy (optional)\n",
    "predicted_classes = model.predict(X_test_scaled)\n",
    "accuracy = accuracy_score(y_test, predicted_classes)\n",
    "print(f\"Model Accuracy: {accuracy * 100}\", \"%\")"
   ]
  },
  {
   "cell_type": "code",
   "execution_count": null,
   "id": "1c930506",
   "metadata": {},
   "outputs": [],
   "source": []
  }
 ],
 "metadata": {
  "kernelspec": {
   "display_name": "Python 3 (ipykernel)",
   "language": "python",
   "name": "python3"
  },
  "language_info": {
   "codemirror_mode": {
    "name": "ipython",
    "version": 3
   },
   "file_extension": ".py",
   "mimetype": "text/x-python",
   "name": "python",
   "nbconvert_exporter": "python",
   "pygments_lexer": "ipython3",
   "version": "3.11.5"
  }
 },
 "nbformat": 4,
 "nbformat_minor": 5
}
