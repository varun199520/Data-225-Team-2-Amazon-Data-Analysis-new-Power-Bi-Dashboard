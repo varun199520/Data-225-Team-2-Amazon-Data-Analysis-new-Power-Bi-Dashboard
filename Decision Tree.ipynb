{
 "cells": [
  {
   "cell_type": "code",
   "execution_count": 1,
   "id": "b78ba83f",
   "metadata": {},
   "outputs": [
    {
     "name": "stderr",
     "output_type": "stream",
     "text": [
      "C:\\Users\\ADMIN\\anaconda3\\python\\Lib\\site-packages\\sklearn\\preprocessing\\_encoders.py:972: FutureWarning: `sparse` was renamed to `sparse_output` in version 1.2 and will be removed in 1.4. `sparse_output` is ignored unless you leave `sparse` to its default value.\n",
      "  warnings.warn(\n"
     ]
    },
    {
     "name": "stdout",
     "output_type": "stream",
     "text": [
      "Decision Tree RMSE: 653.1602929325763\n"
     ]
    }
   ],
   "source": [
    "import pandas as pd\n",
    "from sklearn.model_selection import train_test_split\n",
    "from sklearn.tree import DecisionTreeRegressor\n",
    "from sklearn.metrics import mean_squared_error\n",
    "from sklearn.preprocessing import OneHotEncoder\n",
    "import numpy as np\n",
    "\n",
    "# Load the datasets\n",
    "ama_fact_data = pd.read_csv('ama_fact.csv')\n",
    "product_dimension_data = pd.read_csv('product_dimension.csv')\n",
    "category_dimension_data = pd.read_csv('category_dimension.csv')\n",
    "\n",
    "# Merge the datasets based on their relationships\n",
    "# Merge product details into the fact table\n",
    "merged_data = pd.merge(ama_fact_data, product_dimension_data, on=\"Asin\", how='left')\n",
    "# Merge category details into the combined data\n",
    "final_merged_data = pd.merge(merged_data, category_dimension_data, on=\"Category_Id\", how='left')\n",
    "\n",
    "# One-Hot Encoding for categorical data\n",
    "encoder = OneHotEncoder(sparse=False)\n",
    "categorical_features = final_merged_data[[\"Category_name\"]]  # Assuming 'category_name' needs to be encoded\n",
    "categorical_encoded = encoder.fit_transform(categorical_features)\n",
    "categorical_encoded_df = pd.DataFrame(categorical_encoded, columns=encoder.get_feature_names_out())\n",
    "\n",
    "# Concatenate encoded categorical data with the original DataFrame\n",
    "final_merged_data = pd.concat([final_merged_data.drop(\"Category_name\", axis=1), categorical_encoded_df], axis=1)\n",
    "\n",
    "# Assume 'boughtinlastmonth' is the target variable and we drop non-numeric or irrelevant columns\n",
    "X = final_merged_data.drop([\"BoughtInLastMonth\", \"Asin\", \"Product_URL\", \"Title\"], axis=1)\n",
    "y = final_merged_data[\"BoughtInLastMonth\"]\n",
    "\n",
    "# Handling possible NaN values\n",
    "X.fillna(X.mean(), inplace=True)\n",
    "\n",
    "# Splitting data into training and testing sets\n",
    "X_train, X_test, y_train, y_test = train_test_split(X, y, test_size=0.2, random_state=42)\n",
    "\n",
    "# Creating the Decision Tree model\n",
    "dt_regressor = DecisionTreeRegressor(max_depth=5, random_state=42)\n",
    "\n",
    "# Training the model\n",
    "dt_regressor.fit(X_train, y_train)\n",
    "\n",
    "# Making predictions\n",
    "predictions = dt_regressor.predict(X_test)\n",
    "\n",
    "# Evaluating the model\n",
    "mse = mean_squared_error(y_test, predictions)\n",
    "rmse = np.sqrt(mse)\n",
    "\n",
    "print(f\"Decision Tree RMSE: {rmse}\")\n"
   ]
  },
  {
   "cell_type": "code",
   "execution_count": null,
   "id": "d6d4aea9",
   "metadata": {},
   "outputs": [],
   "source": []
  }
 ],
 "metadata": {
  "kernelspec": {
   "display_name": "Python 3 (ipykernel)",
   "language": "python",
   "name": "python3"
  },
  "language_info": {
   "codemirror_mode": {
    "name": "ipython",
    "version": 3
   },
   "file_extension": ".py",
   "mimetype": "text/x-python",
   "name": "python",
   "nbconvert_exporter": "python",
   "pygments_lexer": "ipython3",
   "version": "3.11.5"
  }
 },
 "nbformat": 4,
 "nbformat_minor": 5
}
