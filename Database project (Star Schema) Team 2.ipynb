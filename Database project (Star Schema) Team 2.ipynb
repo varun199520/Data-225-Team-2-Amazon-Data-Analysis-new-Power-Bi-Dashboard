{
 "cells": [
  {
   "cell_type": "code",
   "execution_count": 1,
   "id": "08d7399d",
   "metadata": {},
   "outputs": [],
   "source": [
    "import pandas as pd\n",
    "import numpy as np"
   ]
  },
  {
   "cell_type": "code",
   "execution_count": null,
   "id": "422b927a",
   "metadata": {},
   "outputs": [],
   "source": [
    "Amazon = pd.read_csv('D:/amazon_dataset/amazon_dataset.csv')"
   ]
  },
  {
   "cell_type": "markdown",
   "id": "8fff2ce1",
   "metadata": {},
   "source": [
    "# Fact Table:\n",
    "Amazon Fact Table"
   ]
  },
  {
   "cell_type": "code",
   "execution_count": 2,
   "id": "52e0b3af",
   "metadata": {},
   "outputs": [
    {
     "data": {
      "text/html": [
       "<div>\n",
       "<style scoped>\n",
       "    .dataframe tbody tr th:only-of-type {\n",
       "        vertical-align: middle;\n",
       "    }\n",
       "\n",
       "    .dataframe tbody tr th {\n",
       "        vertical-align: top;\n",
       "    }\n",
       "\n",
       "    .dataframe thead th {\n",
       "        text-align: right;\n",
       "    }\n",
       "</style>\n",
       "<table border=\"1\" class=\"dataframe\">\n",
       "  <thead>\n",
       "    <tr style=\"text-align: right;\">\n",
       "      <th></th>\n",
       "      <th>Asin</th>\n",
       "      <th>Title</th>\n",
       "      <th>Product_URL</th>\n",
       "      <th>Stars</th>\n",
       "      <th>Reviews</th>\n",
       "      <th>Price</th>\n",
       "      <th>ListPrice</th>\n",
       "      <th>IsBestSeller</th>\n",
       "      <th>BoughtInLastMonth</th>\n",
       "    </tr>\n",
       "  </thead>\n",
       "  <tbody>\n",
       "    <tr>\n",
       "      <th>0</th>\n",
       "      <td>B08YNTXFJG</td>\n",
       "      <td>Duufin 120 Pieces Acrylic Keychain Blanks Set ...</td>\n",
       "      <td>https://www.amazon.com/dp/B08YNTXFJG</td>\n",
       "      <td>4.7</td>\n",
       "      <td>510</td>\n",
       "      <td>9.99</td>\n",
       "      <td>0.0</td>\n",
       "      <td>False</td>\n",
       "      <td>50</td>\n",
       "    </tr>\n",
       "    <tr>\n",
       "      <th>1</th>\n",
       "      <td>B08DXSF5PZ</td>\n",
       "      <td>DIY Tray Silicone Resin Mold, Oval Epoxy Resin...</td>\n",
       "      <td>https://www.amazon.com/dp/B08DXSF5PZ</td>\n",
       "      <td>4.6</td>\n",
       "      <td>584</td>\n",
       "      <td>8.99</td>\n",
       "      <td>0.0</td>\n",
       "      <td>False</td>\n",
       "      <td>0</td>\n",
       "    </tr>\n",
       "    <tr>\n",
       "      <th>2</th>\n",
       "      <td>B096JGXQN5</td>\n",
       "      <td>GTOTd I Love Rock and Roll Pins Set(18 Pack,2....</td>\n",
       "      <td>https://www.amazon.com/dp/B096JGXQN5</td>\n",
       "      <td>4.5</td>\n",
       "      <td>245</td>\n",
       "      <td>12.79</td>\n",
       "      <td>0.0</td>\n",
       "      <td>False</td>\n",
       "      <td>50</td>\n",
       "    </tr>\n",
       "    <tr>\n",
       "      <th>3</th>\n",
       "      <td>B0BZXW1ZGS</td>\n",
       "      <td>Xuhal 100 Pack Plastic Ring Sizer Bulk Reusabl...</td>\n",
       "      <td>https://www.amazon.com/dp/B0BZXW1ZGS</td>\n",
       "      <td>5.0</td>\n",
       "      <td>1</td>\n",
       "      <td>16.99</td>\n",
       "      <td>0.0</td>\n",
       "      <td>False</td>\n",
       "      <td>0</td>\n",
       "    </tr>\n",
       "    <tr>\n",
       "      <th>4</th>\n",
       "      <td>B0BR8B472F</td>\n",
       "      <td>Large Dice Resin Molds, 2 Styles Silicone Dice...</td>\n",
       "      <td>https://www.amazon.com/dp/B0BR8B472F</td>\n",
       "      <td>4.4</td>\n",
       "      <td>10</td>\n",
       "      <td>15.99</td>\n",
       "      <td>0.0</td>\n",
       "      <td>False</td>\n",
       "      <td>50</td>\n",
       "    </tr>\n",
       "  </tbody>\n",
       "</table>\n",
       "</div>"
      ],
      "text/plain": [
       "         Asin                                              Title  \\\n",
       "0  B08YNTXFJG  Duufin 120 Pieces Acrylic Keychain Blanks Set ...   \n",
       "1  B08DXSF5PZ  DIY Tray Silicone Resin Mold, Oval Epoxy Resin...   \n",
       "2  B096JGXQN5  GTOTd I Love Rock and Roll Pins Set(18 Pack,2....   \n",
       "3  B0BZXW1ZGS  Xuhal 100 Pack Plastic Ring Sizer Bulk Reusabl...   \n",
       "4  B0BR8B472F  Large Dice Resin Molds, 2 Styles Silicone Dice...   \n",
       "\n",
       "                            Product_URL  Stars  Reviews  Price  ListPrice  \\\n",
       "0  https://www.amazon.com/dp/B08YNTXFJG    4.7      510   9.99        0.0   \n",
       "1  https://www.amazon.com/dp/B08DXSF5PZ    4.6      584   8.99        0.0   \n",
       "2  https://www.amazon.com/dp/B096JGXQN5    4.5      245  12.79        0.0   \n",
       "3  https://www.amazon.com/dp/B0BZXW1ZGS    5.0        1  16.99        0.0   \n",
       "4  https://www.amazon.com/dp/B0BR8B472F    4.4       10  15.99        0.0   \n",
       "\n",
       "   IsBestSeller  BoughtInLastMonth  \n",
       "0         False                 50  \n",
       "1         False                  0  \n",
       "2         False                 50  \n",
       "3         False                  0  \n",
       "4         False                 50  "
      ]
     },
     "execution_count": 2,
     "metadata": {},
     "output_type": "execute_result"
    }
   ],
   "source": [
    "Amazon.head()\n",
    "amazon_fact_table = Amazon[[\"Asin\", \"Title\", \"Product_URL\", \"Stars\", \"Reviews\", \"Price\", \"ListPrice\", \"IsBestSeller\", \"BoughtInLastMonth\"]]\n",
    "amazon_fact_table.head()"
   ]
  },
  {
   "cell_type": "code",
   "execution_count": 3,
   "id": "3685a342",
   "metadata": {},
   "outputs": [],
   "source": [
    "amazon_fact_table.to_csv(\"D:/amazon_dataset/amazon_fact_table.csv\", index=False)"
   ]
  },
  {
   "cell_type": "markdown",
   "id": "33e9b725",
   "metadata": {},
   "source": [
    "# Dimension Table:\n",
    "Category Table"
   ]
  },
  {
   "cell_type": "code",
   "execution_count": 3,
   "id": "1678538f",
   "metadata": {},
   "outputs": [],
   "source": [
    "category_df = pd.DataFrame(Amazon[\"Category_Id\"])\n",
    "category_df['Category_name'] = Amazon['Category_Name']\n",
    "category_df.head()\n",
    "category_df.drop_duplicates(inplace=True)"
   ]
  },
  {
   "cell_type": "code",
   "execution_count": 4,
   "id": "84299889",
   "metadata": {
    "scrolled": true
   },
   "outputs": [
    {
     "data": {
      "text/html": [
       "<div>\n",
       "<style scoped>\n",
       "    .dataframe tbody tr th:only-of-type {\n",
       "        vertical-align: middle;\n",
       "    }\n",
       "\n",
       "    .dataframe tbody tr th {\n",
       "        vertical-align: top;\n",
       "    }\n",
       "\n",
       "    .dataframe thead th {\n",
       "        text-align: right;\n",
       "    }\n",
       "</style>\n",
       "<table border=\"1\" class=\"dataframe\">\n",
       "  <thead>\n",
       "    <tr style=\"text-align: right;\">\n",
       "      <th></th>\n",
       "      <th>Category_Id</th>\n",
       "      <th>Category_name</th>\n",
       "    </tr>\n",
       "  </thead>\n",
       "  <tbody>\n",
       "    <tr>\n",
       "      <th>0</th>\n",
       "      <td>1</td>\n",
       "      <td>Beading &amp; Jewelry Making</td>\n",
       "    </tr>\n",
       "    <tr>\n",
       "      <th>1</th>\n",
       "      <td>2</td>\n",
       "      <td>Fabric Decorating</td>\n",
       "    </tr>\n",
       "    <tr>\n",
       "      <th>2</th>\n",
       "      <td>3</td>\n",
       "      <td>Knitting &amp; Crochet Supplies</td>\n",
       "    </tr>\n",
       "    <tr>\n",
       "      <th>3</th>\n",
       "      <td>4</td>\n",
       "      <td>Printmaking Supplies</td>\n",
       "    </tr>\n",
       "    <tr>\n",
       "      <th>4</th>\n",
       "      <td>7</td>\n",
       "      <td>Craft &amp; Hobby Fabric</td>\n",
       "    </tr>\n",
       "  </tbody>\n",
       "</table>\n",
       "</div>"
      ],
      "text/plain": [
       "   Category_Id                Category_name\n",
       "0            1     Beading & Jewelry Making\n",
       "1            2            Fabric Decorating\n",
       "2            3  Knitting & Crochet Supplies\n",
       "3            4         Printmaking Supplies\n",
       "4            7         Craft & Hobby Fabric"
      ]
     },
     "execution_count": 4,
     "metadata": {},
     "output_type": "execute_result"
    }
   ],
   "source": [
    "category_df.reset_index(inplace=True, drop=True)\n",
    "category_df.head()"
   ]
  },
  {
   "cell_type": "code",
   "execution_count": 5,
   "id": "0fa75d36",
   "metadata": {},
   "outputs": [],
   "source": [
    "category_df.to_csv(\"D:/amazon_dataset/category_dimension.csv\", index=False)"
   ]
  },
  {
   "cell_type": "markdown",
   "id": "063e1eaf",
   "metadata": {},
   "source": [
    "# Dimension Table :\n",
    "Product table"
   ]
  },
  {
   "cell_type": "code",
   "execution_count": 9,
   "id": "3ab13d51",
   "metadata": {},
   "outputs": [],
   "source": [
    "product_df = pd.DataFrame(Amazon[\"Asin\"])\n",
    "product_df['Title'] = Amazon['Title']\n",
    "product_df['Product_URL'] = Amazon['Product_URL']\n",
    "product_df['IsBestSeller'] = Amazon['IsBestSeller']\n",
    "product_df.head()\n",
    "product_df.drop_duplicates(inplace=True)"
   ]
  },
  {
   "cell_type": "code",
   "execution_count": 10,
   "id": "e6a6bab1",
   "metadata": {},
   "outputs": [],
   "source": [
    "product_df.to_csv('D:/amazon_dataset/product_dimension.csv', index=True)"
   ]
  },
  {
   "cell_type": "markdown",
   "id": "7e4aaf35",
   "metadata": {},
   "source": [
    "# Description about Star Schema"
   ]
  },
  {
   "cell_type": "markdown",
   "id": "df943408",
   "metadata": {},
   "source": [
    "# Fact table :\n",
    "<br>This fact table focus on sales or product data, containing measurable and qualitative data\n",
    "\n",
    "<br>Table columns-\n",
    "<br>Asin – ( Links to Product dimension )\n",
    "<br>Category_Id – ( Links to Category dimension )\n",
    "<br>Stars\n",
    "<br>Reviews\n",
    "<br>Prices\n",
    "<br>ListPrice\n",
    "<br>BougntInLastMonth\n",
    "\n",
    "\n",
    "# Dimention tables:\n",
    "\n",
    "# Product Dimension:\n",
    "<br>Table columns-\n",
    "<br>Asin – ( Primary Key )\n",
    "<br>Title\n",
    "<br>Product_URL\n",
    "<br>IsBestSeller\n",
    "\n",
    "# Category Dimension:\n",
    "<br>Table columns-\n",
    "<br>Category_Id - (Primary Key)\n",
    "<br>Category Name\n",
    "\n",
    "\n",
    "\n",
    "\n",
    "<br>The fact table described focuses on sales and product data, containing key metrics like Stars, Reviews, Prices, ListPrice, and BoughtInLastMonth, with dimensions linked via Asin and Category_Id. The Asin connects to the Product Dimension, which includes details like Title, Product_URL, and IsBestSeller status, with Asin as its primary key. The Category_Id links to the Category Dimension that stores Category Name, using Category_Id as its primary key. This setup allows for efficient querying and analysis of sales data by product characteristics and category, facilitating business insights and decision-making in a data warehouse environment.\n"
   ]
  },
  {
   "attachments": {
    "gfgfhgfkh.png": {
     "image/png": "[encoded data removed]"
    }
   },
   "cell_type": "markdown",
   "id": "40b797e6",
   "metadata": {},
   "source": [
    " ![gfgfhgfkh.png](attachment:gfgfhgfkh.png)"
   ]
  },
  {
   "cell_type": "code",
   "execution_count": null,
   "id": "5cc5cbfe",
   "metadata": {},
   "outputs": [],
   "source": []
  }
 ],
 "metadata": {
  "kernelspec": {
   "display_name": "Python 3 (ipykernel)",
   "language": "python",
   "name": "python3"
  },
  "language_info": {
   "codemirror_mode": {
    "name": "ipython",
    "version": 3
   },
   "file_extension": ".py",
   "mimetype": "text/x-python",
   "name": "python",
   "nbconvert_exporter": "python",
   "pygments_lexer": "ipython3",
   "version": "3.11.5"
  }
 },
 "nbformat": 4,
 "nbformat_minor": 5
}
